{
 "cells": [
  {
   "cell_type": "markdown",
   "metadata": {},
   "source": [
    "# Introduction To Probability\n",
    "## Challenge 1\n",
    "\n",
    "A and B are events of a probability space with $(\\omega, \\sigma, P)$ such that $P(A) = 0.3$, $P(B) = 0.6$ and $P(A \\cap B) = 0.1$\n",
    "\n",
    "Which of the following statements are false?\n",
    "* $P(A \\cup B) = 0.6$\n",
    "* $P(A \\cap B^{C}) = 0.2$\n",
    "* $P(A \\cap (B \\cup B^{C})) = 0.4$\n",
    "* $P(A^{C} \\cap B^{C}) = 0.3$\n",
    "* $P((A \\cap B)^{C}) = 0.9$"
   ]
  },
  {
   "cell_type": "markdown",
   "metadata": {},
   "source": [
    "    𝑃(𝐴∪𝐵)=0.6:\n",
    "\n",
    "La probabilidad de la unión de A y B es la suma de las probabilidades de A y B, menos la probabilidad de su intersección:\n",
    "𝑃(𝐴∪𝐵) = 𝑃(𝐴) + 𝑃(𝐵) - 𝑃(𝐴∩𝐵) = 0.3 + 0.6 - 0.1 = 0.8 ≠ 0.6\n",
    "Por lo tanto, esta afirmación es falsa.\n",
    "\n",
    "    𝑃(𝐴∩𝐵^c)=0.2:\n",
    "\n",
    "La probabilidad de la intersección entre A y el complemento de B es la probabilidad de A menos la probabilidad de la intersección entre A y B:\n",
    "𝑃(𝐴∩𝐵^c) = 𝑃(𝐴) - 𝑃(𝐴∩𝐵) = 0.3 - 0.1 = 0.2\n",
    "Esta afirmación es verdadera.\n",
    "\n",
    "    𝑃(𝐴∩(𝐵∪𝐵^c))=0.4:\n",
    "\n",
    "Esta expresión se simplifica a la intersección entre A y el espacio muestral completo, que es simplemente A:\n",
    "𝑃(𝐴∩(𝐵∪𝐵^c)) = 𝑃(𝐴∩𝜔) = 𝑃(𝐴) = 0.3 ≠ 0.4\n",
    "Por lo tanto, esta afirmación es falsa.\n",
    "\n",
    "    𝑃(𝐴^c∩𝐵^c)=0.3:\n",
    "\n",
    "La probabilidad de la intersección entre los complementos de A y B es igual a la probabilidad del espacio muestral menos la unión de A y B:\n",
    "𝑃(𝐴^c∩𝐵^c) = 1 - 𝑃(𝐴∪𝐵) = 1 - 0.8 = 0.2 ≠ 0.3\n",
    "Por lo tanto, esta afirmación es falsa.\n",
    "\n",
    "    𝑃((𝐴∩𝐵)^c)=0.9:\n",
    "\n",
    "Esta expresión se refiere al complemento de la intersección entre A y B, lo que equivale a la probabilidad de que ni A ni B ocurran:\n",
    "𝑃((𝐴∩𝐵)^c) = 1 - 𝑃(𝐴∩𝐵) = 1 - 0.1 = 0.9\n",
    "Esta afirmación es verdadera."
   ]
  },
  {
   "cell_type": "markdown",
   "metadata": {},
   "source": [
    "## Challenge 2\n",
    "There is a box with 10 white balls, 12 red balls and 8 black balls. Calculate the probability of:\n",
    "* Taking a white ball out.\n",
    "* Taking a white ball out after taking a black ball out.\n",
    "* Taking a red ball out after taking a black and a red ball out.\n",
    "* Taking a red ball out after taking a black and a red ball out with reposition.\n",
    "\n",
    "**Hint**: Reposition means putting back the ball into the box after taking it out."
   ]
  },
  {
   "cell_type": "markdown",
   "metadata": {},
   "source": [
    "Espacio muestral inicial: 12+8+10 = 30\n",
    "\n",
    "La probabilidad de sacar una bola blanca.\n",
    "    P(WHITE) = 1/3 \n",
    "\n",
    "La probabilidad de sacar una bola blanca después de sacar una negra: \n",
    "    P(BLACK) = 8/30\n",
    "    Quedan 29 bolas\n",
    "    \n",
    "    P(WHITE|BLACK) = 10/29 \n",
    "    \n",
    "La probabilidad de sacar una bola roja después de una negra y una roja sin reposición:\n",
    "\n",
    "    P(RED) = 12/30\n",
    "    P(BLACK) = 8/29\n",
    "    P(RED, RED|BLACK) = 11/28 \n",
    "\n",
    "La probabilidad con reposición:\n",
    "Al haber reposición de las bolas el espacio muestral es el mismo que para sacar la primera bola roja:\n",
    "    P(RED) 2/5"
   ]
  },
  {
   "cell_type": "markdown",
   "metadata": {},
   "source": [
    "## Challenge 3\n",
    "\n",
    "You are planning to go on a picnic today but the morning is cloudy. You hate rain so you don't know whether to go out or stay home! To help you make a decision, you gather the following data about rainy days:\n",
    "\n",
    "* Knowing that it is a rainy day, the probability of cloudy is 50%!\n",
    "* The probability of any day (rainy or not) starting off cloudy is 40%. \n",
    "* This month is usually dry so only 3 of 30 days (10%) tend to be rainy. \n",
    "\n",
    "What is the probability of rain, given the day started cloudy?"
   ]
  },
  {
   "cell_type": "markdown",
   "metadata": {},
   "source": [
    "P(LLuvia|Nublado) = P(Nublado∣Lluvia) × P(Lluvia)/P(Nublado)\n",
    "\n",
    "P(Nublado∣Lluvia)=0.5\n",
    "P(Lluvia)=0.1\n",
    "P(Nublado)=0.4\n",
    "\n",
    "P(LLuvia|Nublado) = 0.125\n",
    "\n",
    "Hay una probabilidad del 12.5% de que llueva cuando un día empieza nublado"
   ]
  },
  {
   "cell_type": "markdown",
   "metadata": {},
   "source": [
    "## Challenge 4\n",
    "\n",
    "One thousand people were asked through a telephone survey whether they thought more street lighting is needed at night or not.\n",
    "\n",
    "Out of the 480 men that answered the survey, 324 said yes and 156 said no. On the other hand, out of the 520 women that answered, 351 said yes and 169 said no. \n",
    "\n",
    "We wonder if men and women have a different opinions about the street lighting matter. Is gender relevant or irrelevant to the question?\n",
    "\n",
    "Consider the following events:\n",
    "- The answer is yes, so the person that answered thinks that more street lighting is needed.\n",
    "- The person who answered is a man.\n",
    "\n",
    "We want to know if these events are independent, that is, if the fact of wanting more light depends on whether one is male or female. Are these events independent or not?\n",
    "\n",
    "**Hint**: To clearly compare the answers by gender, it is best to place the data in a table."
   ]
  },
  {
   "cell_type": "code",
   "execution_count": 6,
   "metadata": {},
   "outputs": [],
   "source": [
    "import pandas as pd"
   ]
  },
  {
   "cell_type": "code",
   "execution_count": 7,
   "metadata": {},
   "outputs": [],
   "source": [
    "data={\"Gender\": [\"Men\", \"Women\",\"Total\"], \"Yes\":[324,351,675], \"No\": [156, 169, 325],}\n",
    "df = pd.DataFrame(data)"
   ]
  },
  {
   "cell_type": "code",
   "execution_count": 8,
   "metadata": {},
   "outputs": [
    {
     "data": {
      "text/html": [
       "<div>\n",
       "<style scoped>\n",
       "    .dataframe tbody tr th:only-of-type {\n",
       "        vertical-align: middle;\n",
       "    }\n",
       "\n",
       "    .dataframe tbody tr th {\n",
       "        vertical-align: top;\n",
       "    }\n",
       "\n",
       "    .dataframe thead th {\n",
       "        text-align: right;\n",
       "    }\n",
       "</style>\n",
       "<table border=\"1\" class=\"dataframe\">\n",
       "  <thead>\n",
       "    <tr style=\"text-align: right;\">\n",
       "      <th></th>\n",
       "      <th>Gender</th>\n",
       "      <th>Yes</th>\n",
       "      <th>No</th>\n",
       "    </tr>\n",
       "  </thead>\n",
       "  <tbody>\n",
       "    <tr>\n",
       "      <th>0</th>\n",
       "      <td>Men</td>\n",
       "      <td>324</td>\n",
       "      <td>156</td>\n",
       "    </tr>\n",
       "    <tr>\n",
       "      <th>1</th>\n",
       "      <td>Women</td>\n",
       "      <td>351</td>\n",
       "      <td>169</td>\n",
       "    </tr>\n",
       "    <tr>\n",
       "      <th>2</th>\n",
       "      <td>Total</td>\n",
       "      <td>675</td>\n",
       "      <td>325</td>\n",
       "    </tr>\n",
       "  </tbody>\n",
       "</table>\n",
       "</div>"
      ],
      "text/plain": [
       "  Gender  Yes   No\n",
       "0    Men  324  156\n",
       "1  Women  351  169\n",
       "2  Total  675  325"
      ]
     },
     "execution_count": 8,
     "metadata": {},
     "output_type": "execute_result"
    }
   ],
   "source": [
    "df"
   ]
  },
  {
   "cell_type": "code",
   "execution_count": 18,
   "metadata": {},
   "outputs": [
    {
     "name": "stdout",
     "output_type": "stream",
     "text": [
      "P(Yes): 0.675\n"
     ]
    }
   ],
   "source": [
    "print(f'P(Yes): {675/(675+325)}')"
   ]
  },
  {
   "cell_type": "code",
   "execution_count": 19,
   "metadata": {},
   "outputs": [
    {
     "name": "stdout",
     "output_type": "stream",
     "text": [
      "P(Man): 0.48\n"
     ]
    }
   ],
   "source": [
    "print(f'P(Man): {480/(675+325)}')"
   ]
  },
  {
   "cell_type": "markdown",
   "metadata": {},
   "source": [
    "P(Yes∩Man)=P(Yes)×P(Man) (Son sucesos independientes por lo que intersectan)"
   ]
  },
  {
   "cell_type": "code",
   "execution_count": 21,
   "metadata": {},
   "outputs": [
    {
     "name": "stdout",
     "output_type": "stream",
     "text": [
      "P(Yes∩Man): 0.324\n"
     ]
    }
   ],
   "source": [
    "print(f'P(Yes∩Man): {0.675*0.480}')"
   ]
  }
 ],
 "metadata": {
  "kernelspec": {
   "display_name": "Python 3 (ipykernel)",
   "language": "python",
   "name": "python3"
  },
  "language_info": {
   "codemirror_mode": {
    "name": "ipython",
    "version": 3
   },
   "file_extension": ".py",
   "mimetype": "text/x-python",
   "name": "python",
   "nbconvert_exporter": "python",
   "pygments_lexer": "ipython3",
   "version": "3.11.5"
  }
 },
 "nbformat": 4,
 "nbformat_minor": 2
}
